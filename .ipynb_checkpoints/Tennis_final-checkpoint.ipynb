{
 "cells": [
  {
   "cell_type": "code",
   "execution_count": 1,
   "id": "1438364d",
   "metadata": {},
   "outputs": [
    {
     "name": "stdout",
     "output_type": "stream",
     "text": [
      "\u001b[31mtensorflow 1.7.1 has requirement numpy>=1.13.3, but you'll have numpy 1.12.1 which is incompatible.\u001b[0m\r\n",
      "\u001b[31mipython 6.5.0 has requirement prompt-toolkit<2.0.0,>=1.0.15, but you'll have prompt-toolkit 3.0.19 which is incompatible.\u001b[0m\r\n"
     ]
    }
   ],
   "source": [
    "!pip -q install ./python"
   ]
  },
  {
   "cell_type": "code",
   "execution_count": 2,
   "id": "900bcfa9",
   "metadata": {},
   "outputs": [
    {
     "name": "stderr",
     "output_type": "stream",
     "text": [
      "INFO:unityagents:\n",
      "'Academy' started successfully!\n",
      "Unity Academy name: Academy\n",
      "        Number of Brains: 1\n",
      "        Number of External Brains : 1\n",
      "        Lesson number : 0\n",
      "        Reset Parameters :\n",
      "\t\t\n",
      "Unity brain name: TennisBrain\n",
      "        Number of Visual Observations (per agent): 0\n",
      "        Vector Observation space type: continuous\n",
      "        Vector Observation space size (per agent): 8\n",
      "        Number of stacked Vector Observation: 3\n",
      "        Vector Action space type: continuous\n",
      "        Vector Action space size (per agent): 2\n",
      "        Vector Action descriptions: , \n"
     ]
    }
   ],
   "source": [
    "from unityagents import UnityEnvironment\n",
    "import numpy as np\n",
    "\n",
    "env = UnityEnvironment(file_name=\"/data/Tennis_Linux_NoVis/Tennis\")"
   ]
  },
  {
   "cell_type": "code",
   "execution_count": 3,
   "id": "4767ff4e",
   "metadata": {},
   "outputs": [],
   "source": [
    "# get the default brain\n",
    "brain_name = env.brain_names[0]\n",
    "brain = env.brains[brain_name]"
   ]
  },
  {
   "cell_type": "code",
   "execution_count": 4,
   "id": "240d476d",
   "metadata": {},
   "outputs": [
    {
     "name": "stdout",
     "output_type": "stream",
     "text": [
      "Number of agents: 2\n",
      "Size of each action: 2\n",
      "There are 2 agents. Each observes a state with length: 24\n",
      "The state for the first agent looks like: [ 0.          0.          0.          0.          0.          0.          0.\n",
      "  0.          0.          0.          0.          0.          0.          0.\n",
      "  0.          0.         -6.65278625 -1.5        -0.          0.\n",
      "  6.83172083  6.         -0.          0.        ]\n"
     ]
    }
   ],
   "source": [
    "# reset the environment\n",
    "env_info = env.reset(train_mode=True)[brain_name]\n",
    "\n",
    "# number of agents \n",
    "num_agents = len(env_info.agents)\n",
    "print('Number of agents:', num_agents)\n",
    "\n",
    "# size of each action\n",
    "action_size = brain.vector_action_space_size\n",
    "print('Size of each action:', action_size)\n",
    "\n",
    "# examine the state space \n",
    "states = env_info.vector_observations\n",
    "state_size = states.shape[1]\n",
    "print('There are {} agents. Each observes a state with length: {}'.format(states.shape[0], state_size))\n",
    "print('The state for the first agent looks like:', states[0])"
   ]
  },
  {
   "cell_type": "code",
   "execution_count": 5,
   "id": "11d14412",
   "metadata": {},
   "outputs": [
    {
     "name": "stdout",
     "output_type": "stream",
     "text": [
      "Total score (averaged over agents) this episode: 0.04500000085681677\n",
      "Total score (averaged over agents) this episode: -0.004999999888241291\n",
      "Total score (averaged over agents) this episode: -0.004999999888241291\n",
      "Total score (averaged over agents) this episode: -0.004999999888241291\n",
      "Total score (averaged over agents) this episode: 0.04500000085681677\n"
     ]
    }
   ],
   "source": [
    "for i in range(5):                                         # play game for 5 episodes\n",
    "    env_info = env.reset(train_mode=False)[brain_name]     # reset the environment    \n",
    "    states = env_info.vector_observations                  # get the current state (for each agent)\n",
    "    scores = np.zeros(num_agents)                          # initialize the score (for each agent)\n",
    "    while True:\n",
    "        actions = np.random.randn(num_agents, action_size) # select an action (for each agent)\n",
    "        actions = np.clip(actions, -1, 1)                  # all actions between -1 and 1\n",
    "        env_info = env.step(actions)[brain_name]           # send all actions to tne environment\n",
    "        next_states = env_info.vector_observations         # get next state (for each agent)\n",
    "        rewards = env_info.rewards                         # get reward (for each agent)\n",
    "        #print(rewards) # (1,2)\n",
    "        dones = env_info.local_done                        # see if episode finished\n",
    "        scores += env_info.rewards                         # update the score (for each agent)\n",
    "        states = next_states                               # roll over states to next time step\n",
    "        if np.any(dones):                                  # exit loop if episode finished\n",
    "            break\n",
    "    print('Total score (averaged over agents) this episode: {}'.format(np.mean(scores)))"
   ]
  },
  {
   "cell_type": "code",
   "execution_count": 6,
   "id": "1c9c3eb7",
   "metadata": {},
   "outputs": [],
   "source": [
    "import torch\n",
    "import numpy as np\n",
    "import torch.nn as nn\n",
    "import torch.nn.functional as F\n",
    "\n",
    "def hidden_init(layer):\n",
    "    fan_in = layer.weight.data.size()[0]\n",
    "    lim = 1. / np.sqrt(fan_in)\n",
    "    return (-lim,lim)\n",
    "\n",
    "class Actor(nn.Module):\n",
    "    def __init__(self,state_size,action_size,seed,fc1_units=256,fc2_units=128):\n",
    "        super(Actor,self).__init__()\n",
    "        self.seed = torch.manual_seed(seed)\n",
    "        self.num_agents = 2\n",
    "        self.fc1 = nn.Linear(state_size,fc1_units)\n",
    "        self.fc2 = nn.Linear(fc1_units,fc2_units)\n",
    "        self.fc3 = nn.Linear(fc2_units,action_size)\n",
    "        self.reset_parameters()\n",
    "        \n",
    "    def reset_parameters(self):\n",
    "        self.fc1.weight.data.uniform_(*hidden_init(self.fc1))\n",
    "        self.fc2.weight.data.uniform_(*hidden_init(self.fc2))\n",
    "        self.fc3.weight.data.uniform_(-3e-3,3e-3)\n",
    "        \n",
    "    def forward(self,state):\n",
    "        x = F.relu(self.fc1(state))\n",
    "        x = F.relu(self.fc2(x))\n",
    "        return F.tanh(self.fc3(x))\n",
    "    \n",
    "    \n",
    "    \n",
    "class Critic(nn.Module):\n",
    "    def __init__(self,state_size,action_size,seed,fc1_units=256,fc2_units=128):\n",
    "        super(Critic,self).__init__()\n",
    "        self.seed = torch.manual_seed(seed)\n",
    "        self.num_agents = 2\n",
    "        self.fc1 = nn.Linear(state_size*self.num_agents,fc1_units)\n",
    "        self.fc2 = nn.Linear(fc1_units+(action_size*self.num_agents),fc2_units)\n",
    "        self.fc3 = nn.Linear(fc2_units,1)\n",
    "        self.reset_parameters()\n",
    "        \n",
    "    def reset_parameters(self):\n",
    "        self.fc1.weight.data.uniform_(*hidden_init(self.fc1))\n",
    "        self.fc2.weight.data.uniform_(*hidden_init(self.fc2))\n",
    "        self.fc3.weight.data.uniform_(-3e-3,3e-3)\n",
    "        \n",
    "    def forward(self,state,action):\n",
    "        xs = F.relu(self.fc1(state))\n",
    "        x = torch.cat((xs,action),dim=1)\n",
    "        x = F.relu(self.fc2(x))\n",
    "        return self.fc3(x)"
   ]
  },
  {
   "cell_type": "code",
   "execution_count": 7,
   "id": "1f1bb5b0",
   "metadata": {},
   "outputs": [
    {
     "data": {
      "text/plain": [
       "device(type='cuda', index=0)"
      ]
     },
     "execution_count": 7,
     "metadata": {},
     "output_type": "execute_result"
    }
   ],
   "source": [
    "import torch.optim as optim\n",
    "\n",
    "BUFFER_SIZE = int(1e5)\n",
    "BATCH_SIZE = 128 #128\n",
    "GAMMA = 0.99\n",
    "TAU = 7e-2\n",
    "LR_ACTOR = 1e-3\n",
    "LR_CRITIC = 1e-4\n",
    "WEIGHT_DECAY = 0\n",
    "EPSILON = 5.5\n",
    "EPSILON_DECAY = 1e-4\n",
    "EPSILON_FINAL = 0.001\n",
    "MULTIPLE_LEARN_PER_UPDATE = 5\n",
    "LEARN_EVERY = 1\n",
    "\n",
    "device = torch.device(\"cuda:0\" if torch.cuda.is_available() else \"cpu\")\n",
    "device"
   ]
  },
  {
   "cell_type": "code",
   "execution_count": 8,
   "id": "bb335406",
   "metadata": {},
   "outputs": [],
   "source": [
    "import copy\n",
    "\"\"\"Ornstein-Uhlenbeck process.\"\"\"\n",
    "class OUNoise:\n",
    "    def __init__(self,size,seed,mu=0.,theta=0.15,sigma=0.2):\n",
    "        self.size = size\n",
    "        self.mu = mu * np.ones(size)\n",
    "        self.theta = theta\n",
    "        self.sigma = sigma\n",
    "        self.seed = random.seed(seed)\n",
    "        self.reset()\n",
    "        \n",
    "    def reset(self):\n",
    "        self.state = copy.copy(self.mu)\n",
    "        \n",
    "    def sample(self):\n",
    "        x = self.state\n",
    "        #dx = self.theta * (self.mu - x) + self.sigma * np.array([random.random() for i in range(len(x))])\n",
    "        dx = self.theta * (self.mu - x) + self.sigma * np.random.standard_normal(self.size)\n",
    "        self.state = x + dx\n",
    "        return self.state"
   ]
  },
  {
   "cell_type": "code",
   "execution_count": 9,
   "id": "22344900",
   "metadata": {},
   "outputs": [],
   "source": [
    "from collections import namedtuple,deque\n",
    "\n",
    "class ReplayBuffer:\n",
    "    def __init__(self,action_size,buffer_size,batch_size,seed):\n",
    "        self.action_size = action_size\n",
    "        self.memory = deque(maxlen=buffer_size)\n",
    "        self.batch_size = batch_size\n",
    "        self.experience = namedtuple(\"Experience\",field_names=[\"state\",\"action\",\"reward\",\"next_state\",\"done\"])\n",
    "        self.seed = random.seed(seed)\n",
    "        self.num_agents = 2\n",
    "        \n",
    "    def add(self,state,action,reward,next_state,done):\n",
    "        e = self.experience(state,action,reward,next_state,done)\n",
    "        self.memory.append(e)\n",
    "        \n",
    "    def sample(self):\n",
    "        experiences = random.sample(self.memory,k=self.batch_size)\n",
    "        states = [torch.from_numpy(np.vstack([e.state[index] for e in experiences if e is not None])).float().to(device) for index in range(self.num_agents)]\n",
    "        actions = [torch.from_numpy(np.vstack([e.action[index] for e in experiences if e is not None])).float().to(device) for index in range(self.num_agents)]\n",
    "        rewards = torch.from_numpy(np.vstack([e.reward for e in experiences if e is not None])).float().to(device)\n",
    "        next_states = [torch.from_numpy(np.vstack([e.next_state[index] for e in experiences if e is not None])).float().to(device) for index in range(self.num_agents)]\n",
    "        dones = torch.from_numpy(np.vstack([e.done for e in experiences if e is not None]).astype(np.uint8)).float().to(device)\n",
    "        \n",
    "        return (states,actions,rewards,next_states,dones)\n",
    "    \n",
    "\n",
    "    def __len__(self):\n",
    "        return len(self.memory)"
   ]
  },
  {
   "cell_type": "code",
   "execution_count": 10,
   "id": "863ce2c7",
   "metadata": {},
   "outputs": [],
   "source": [
    "import random\n",
    "class ddpg_agent():\n",
    "    def __init__(self,state_size,action_size,num_agents,random_seed):\n",
    "        self.state_size = state_size\n",
    "        self.action_size = action_size\n",
    "        self.num_agents = num_agents\n",
    "        self.seed = random.seed(random_seed)\n",
    "        \n",
    "        self.actor_local = Actor(state_size,action_size,random_seed).to(device)\n",
    "        self.actor_target = Actor(state_size,action_size,random_seed).to(device)\n",
    "        self.actor_optimizer = optim.Adam(self.actor_local.parameters(),lr=LR_ACTOR)\n",
    "        \n",
    "        self.critic_local = Critic(state_size,action_size,random_seed).to(device)\n",
    "        self.critic_target = Critic(state_size,action_size,random_seed).to(device)\n",
    "        self.critic_optimizer = optim.Adam(self.critic_local.parameters(),lr=LR_CRITIC,weight_decay=WEIGHT_DECAY)\n",
    "        \n",
    "        self.noise = OUNoise(action_size,random_seed)\n",
    "        \n",
    "        self.step_t = 0\n",
    "        self.epsilon = EPSILON\n",
    "        \n",
    "    def reset(self):\n",
    "        self.noise.reset()\n",
    "        \n",
    "        \n",
    "    def step(self,buffer,agent_number):\n",
    "        self.step_t = (self.step_t + 1) % LEARN_EVERY\n",
    "        \n",
    "        if len(buffer) > BATCH_SIZE:\n",
    "            if self.step_t == 0:\n",
    "                experiences = buffer.sample()\n",
    "                self.learn(experiences,GAMMA,agent_number)\n",
    "                \n",
    "    def act(self,state,add_noise=True):\n",
    "        state = torch.from_numpy(state).float().to(device)\n",
    "        self.actor_local.eval()\n",
    "        with torch.no_grad():\n",
    "            action = self.actor_local(state).cpu().data.numpy()\n",
    "            \n",
    "        self.actor_local.train()\n",
    "        \n",
    "        if add_noise:\n",
    "            action += self.noise.sample()\n",
    "            \n",
    "        return np.clip(action, -1, 1)\n",
    "    \n",
    "    def learn(self,experiences,gamma,agent_number):\n",
    "        states_list,actions_list,rewards,next_states_list,dones = experiences\n",
    "        \n",
    "        next_states_tensor = torch.cat(next_states_list,dim=1).to(device)\n",
    "        states_tensor = torch.cat(states_list,dim=1).to(device)\n",
    "        actions_tensor = torch.cat(actions_list,dim=1).to(device)\n",
    "        \n",
    "        next_actions = [self.actor_target(states) for states in states_list]\n",
    "        next_actions_tensor = torch.cat(next_actions,dim=1).to(device)\n",
    "        \n",
    "        Q_targets_next = self.critic_target(next_states_tensor,next_actions_tensor)\n",
    "        Q_targets = rewards + (gamma * Q_targets_next * (1 - dones))\n",
    "        Q_expected = self.critic_local(states_tensor,actions_tensor)\n",
    "        #critic_loss = F.mse_loss(Q_expected,Q_targets[:,agent_number].reshape(-1,1))  Don't use reshape causes the below error\n",
    "        #RuntimeError: Tensor: invalid storage offset at /opt/conda/conda-bld/pytorch_1524584710464/work/aten/src/THC/generic/THCTensor.c:759\n",
    "        critic_loss = F.mse_loss(Q_expected,Q_targets[:,agent_number].view(-1,1))\n",
    "        \n",
    "        self.critic_optimizer.zero_grad()\n",
    "        critic_loss.backward()\n",
    "        self.critic_optimizer.step()\n",
    "        \n",
    "        \n",
    "        #Actor\n",
    "        actions_pred = [self.actor_local(states) for states in states_list]\n",
    "        actions_pred_tensor = torch.cat(actions_pred,dim=1).to(device)\n",
    "        \n",
    "        actor_loss = -self.critic_local(states_tensor,actions_pred_tensor).mean()\n",
    "        self.actor_optimizer.zero_grad()\n",
    "        actor_loss.backward()\n",
    "        self.actor_optimizer.step()\n",
    "        \n",
    "        self.soft_update(self.critic_local,self.critic_target,TAU)\n",
    "        self.soft_update(self.actor_local,self.actor_target,TAU)\n",
    "        \n",
    "    def soft_update(self,local_model,target_model,tau): \n",
    "        for target_param,local_param in zip(target_model.parameters(),local_model.parameters()):\n",
    "            target_param.data.copy_(tau*local_param.data + (1.0-tau)*target_param.data)\n",
    "        "
   ]
  },
  {
   "cell_type": "code",
   "execution_count": 11,
   "id": "2a875526",
   "metadata": {},
   "outputs": [],
   "source": [
    "class MADDPG():\n",
    "    def __init__(self,state_size,action_size,num_agents,random_seed):\n",
    "        self.agents = [ddpg_agent(state_size,action_size,num_agents,random_seed) for x in range(num_agents)]\n",
    "        self.memory = ReplayBuffer(action_size,BUFFER_SIZE,BATCH_SIZE,random_seed)\n",
    "        self.state_size = state_size\n",
    "        self.action_size = action_size\n",
    "        self.num_agents = num_agents\n",
    "        \n",
    "    def step(self,states,actions,next_states,rewards,dones):\n",
    "        self.memory.add(states,actions,rewards,next_states,dones)\n",
    "    \n",
    "        for index,agent in enumerate(self.agents):\n",
    "            agent.step(self.memory,index)\n",
    "            \n",
    "    def act(self,states,add_noise=True):\n",
    "        actions = np.zeros([self.num_agents,self.action_size])\n",
    "        \n",
    "        for index,agent in enumerate(self.agents):\n",
    "            actions[index,:] = agent.act(states[index],add_noise)\n",
    "            \n",
    "        return actions\n",
    "    \n",
    "    def checkpoint(self):\n",
    "        for index,agent in enumerate(self.agents):\n",
    "            torch.save(agent.actor_local.state_dict(), 'agent{}_checkpoint_actor_final.pth'.format(index))\n",
    "            torch.save(agent.critic_local.state_dict(), 'agent{}_checkpoint_critic_final.pth'.format(index))\n",
    "            \n",
    "    def reset(self):\n",
    "        for agent in self.agents:\n",
    "            agent.reset()"
   ]
  },
  {
   "cell_type": "code",
   "execution_count": 12,
   "id": "87573bcc",
   "metadata": {},
   "outputs": [],
   "source": [
    "maddpg_model = MADDPG(state_size,action_size,num_agents,random_seed=0)"
   ]
  },
  {
   "cell_type": "code",
   "execution_count": 13,
   "id": "f1e9ae32",
   "metadata": {},
   "outputs": [],
   "source": [
    "from collections import deque\n",
    "from workspace_utils import keep_awake\n",
    "def train_maddpg(n_episodes=5000,print_every=100):\n",
    "    scores_deque = deque(maxlen=100)\n",
    "    scores = []\n",
    "    average_scores_list = []\n",
    "    \n",
    "    for i_episode in keep_awake(range(n_episodes + 1)):\n",
    "        env_info = env.reset(train_mode=True)[brain_name]\n",
    "        states = env_info.vector_observations\n",
    "        score = np.zeros(num_agents)\n",
    "        maddpg_model.reset()\n",
    "        \n",
    "        while True:\n",
    "            actions = maddpg_model.act(states)\n",
    "            env_info = env.step(actions)[brain_name]\n",
    "            next_states = env_info.vector_observations\n",
    "            rewards = env_info.rewards\n",
    "            dones = env_info.local_done\n",
    "            \n",
    "            maddpg_model.step(states,actions,next_states,rewards,dones)\n",
    "            states = next_states\n",
    "            score += rewards\n",
    "            \n",
    "            if any(dones):\n",
    "                break\n",
    "                \n",
    "        score_max = np.max(score)\n",
    "        scores.append(score_max)\n",
    "        scores_deque.append(score_max)\n",
    "        average_score = np.mean(scores_deque)\n",
    "        average_scores_list.append(average_score)\n",
    "        \n",
    "        print('\\rEpisode {}\\tAverage Score: {:.4f}'.format(i_episode, np.mean(scores_deque)), end=\"\")\n",
    "        \n",
    "        \n",
    "        \n",
    "        if i_episode % print_every == 0:\n",
    "            print('\\rEpisode {}\\tAverage Score: {:.4f}'.format(i_episode, average_score))\n",
    "            \n",
    "            if average_score >= 0.5:\n",
    "                print('\\rEnvironment solved in {} episodes with an Average Score of {:.4f}'.format(i_episode, average_score))\n",
    "                maddpg_model.checkpoint()\n",
    "                return scores,average_scores_list\n",
    "            #print('\\rEpisode {}\\tAverage Score: {:.2f}'.format(i_episode, avg_score))\n",
    "            \n",
    "    return scores,average_scores_list"
   ]
  },
  {
   "cell_type": "code",
   "execution_count": 14,
   "id": "ba07ef5a",
   "metadata": {},
   "outputs": [
    {
     "name": "stdout",
     "output_type": "stream",
     "text": [
      "Episode 0\tAverage Score: 0.0000\n",
      "Episode 100\tAverage Score: 0.0000\n",
      "Episode 200\tAverage Score: 0.0009\n",
      "Episode 300\tAverage Score: 0.0009\n",
      "Episode 400\tAverage Score: 0.0099\n",
      "Episode 500\tAverage Score: 0.0069\n",
      "Episode 600\tAverage Score: 0.0391\n",
      "Episode 700\tAverage Score: 0.0765\n",
      "Episode 800\tAverage Score: 0.0827\n",
      "Episode 900\tAverage Score: 0.0996\n",
      "Episode 1000\tAverage Score: 0.1040\n",
      "Episode 1100\tAverage Score: 0.1057\n",
      "Episode 1200\tAverage Score: 0.1174\n",
      "Episode 1300\tAverage Score: 0.1817\n",
      "Episode 1400\tAverage Score: 0.2356\n",
      "Episode 1500\tAverage Score: 0.2752\n",
      "Episode 1600\tAverage Score: 0.3439\n",
      "Episode 1700\tAverage Score: 0.4254\n",
      "Episode 1800\tAverage Score: 0.4585\n",
      "Episode 1900\tAverage Score: 0.5886\n",
      "Environment solved in 1900 episodes with an Average Score of 0.5886\n"
     ]
    },
    {
     "data": {
      "text/plain": [
       "<matplotlib.figure.Figure at 0x7f36da8a5f98>"
      ]
     },
     "metadata": {},
     "output_type": "display_data"
    }
   ],
   "source": [
    "import matplotlib.pyplot as plt\n",
    "scores,average_scores_list = train_maddpg()\n",
    "plt.plot(scores)\n",
    "plt.show()"
   ]
  },
  {
   "cell_type": "code",
   "execution_count": 16,
   "id": "b037e576",
   "metadata": {},
   "outputs": [
    {
     "data": {
      "image/png": "[encoded data removed]",
      "text/plain": [
       "<matplotlib.figure.Figure at 0x7f3646d9c550>"
      ]
     },
     "metadata": {
      "needs_background": "light"
     },
     "output_type": "display_data"
    }
   ],
   "source": [
    "plt.plot(scores)\n",
    "plt.show()"
   ]
  },
  {
   "cell_type": "code",
   "execution_count": 15,
   "id": "a56f2228",
   "metadata": {},
   "outputs": [],
   "source": [
    "#env.close()"
   ]
  }
 ],
 "metadata": {
  "kernelspec": {
   "display_name": "Python 3",
   "language": "python",
   "name": "python3"
  },
  "language_info": {
   "codemirror_mode": {
    "name": "ipython",
    "version": 3
   },
   "file_extension": ".py",
   "mimetype": "text/x-python",
   "name": "python",
   "nbconvert_exporter": "python",
   "pygments_lexer": "ipython3",
   "version": "3.6.13"
  }
 },
 "nbformat": 4,
 "nbformat_minor": 5
}
